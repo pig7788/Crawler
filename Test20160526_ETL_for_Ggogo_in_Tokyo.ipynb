{
 "cells": [
  {
   "cell_type": "code",
   "execution_count": 2,
   "metadata": {
    "collapsed": true
   },
   "outputs": [],
   "source": [
    "import requests, math, re, time, json\n",
    "from bs4 import  BeautifulSoup as bs"
   ]
  },
  {
   "cell_type": "markdown",
   "metadata": {},
   "source": [
    "## 利用Selenium讀取網站資料，並且將網址寫入"
   ]
  },
  {
   "cell_type": "code",
   "execution_count": 118,
   "metadata": {
    "collapsed": false
   },
   "outputs": [],
   "source": [
    "# -*- coding: utf-8 -*-\n",
    "from selenium import webdriver\n",
    "from selenium.webdriver.common.by import By\n",
    "from selenium.webdriver.common.keys import Keys\n",
    "from selenium.webdriver.support.ui import Select\n",
    "from selenium.common.exceptions import NoSuchElementException\n",
    "from selenium.common.exceptions import NoAlertPresentException\n",
    "import unittest, time, re\n",
    "\n",
    "driver = webdriver.Firefox() #使用Firefox開啟網頁\n",
    "driver.implicitly_wait(3) #等待秒數\n",
    "base_url = \"http://www.ggogo.com/\" #基底網址\n",
    "driver.verificationErrors = []\n",
    "driver.accept_next_alert = True\n",
    "driver.get(base_url + \"/event/japan-tokyo-tour/index.htm\") #取得目標網址\n",
    "\n",
    "res = driver.page_source #取得目標網址內的程式碼\n",
    "soup = bs(res, \"lxml\") #萃取程式碼\n",
    "a_tag = soup.select('div.frame a')\n",
    "with open('E:\\\\BigData\\\\Project\\\\Travel\\\\Ggogo\\\\Japan\\\\Link\\\\bid_list_for_Ggogo_in_Tokyo.txt', 'w') as fileWrite:\n",
    "    for get_url in a_tag: #取得網址\n",
    "        if len(get_url.text) > 0:\n",
    "            fileWrite.write('http://www.ggogo.com' + get_url['href'] + '\\n')\n",
    "driver.close()"
   ]
  },
  {
   "cell_type": "markdown",
   "metadata": {},
   "source": [
    "## 檢查連結是否有重複"
   ]
  },
  {
   "cell_type": "code",
   "execution_count": 2,
   "metadata": {
    "collapsed": false
   },
   "outputs": [
    {
     "name": "stdout",
     "output_type": "stream",
     "text": [
      "['http://www.ggogo.com/ggogoWeb/goProd.do?step', 'goStep1&mgrupCd', 'JFTP5R']\n"
     ]
    }
   ],
   "source": [
    "testUrl = 'http://www.ggogo.com/ggogoWeb/goProd.do?step=goStep1&mgrupCd=JFTP5R'\n",
    "print testUrl.split('=')"
   ]
  },
  {
   "cell_type": "code",
   "execution_count": 8,
   "metadata": {
    "collapsed": false
   },
   "outputs": [],
   "source": [
    "def checkUrl(linkFilePath, areaName):\n",
    "    dicCheck = {} #宣告檢查的字典\n",
    "    num = 0\n",
    "    checkedPathFormat = 'E:\\\\BigData\\\\Project\\\\Travel\\\\Ggogo\\\\Japan\\\\Link\\\\Checked\\\\checked_bid_list_for_Ggogo_in_{}.txt'\n",
    "    checkedPath = checkedPathFormat.format(areaName)\n",
    "    #上面兩行將路徑字串空格填入\n",
    "    for bid_url in open(linkFilePath, 'r'): #讀取網頁\n",
    "        num += 1\n",
    "        strName = bid_url.strip().split('=') #將最後的mgrupCd，切割成為獨立可判斷是否有重複的號碼\n",
    "        linkName = strName[2].strip()\n",
    "        if strName[2] not in dicCheck: #判斷如果為true，則執行下列程式碼，並且存入檢查的字典\n",
    "            print 'No.' + str(num) + ', ' + linkName +  ' is new, and added in dicCheck.'\n",
    "            dicCheck[linkName] = bid_url\n",
    "        else: #若false則印出重複的mgrupCd，以及網址\n",
    "            print 'No.' + str(num) + ', ' + linkName + ' is existed, and not added in dicCheck.'\n",
    "            print 'Url: ' + bid_url.strip()\n",
    "    with open(checkedPath, 'w') as fileWrite: #將字典內的網址寫入檔案中\n",
    "        for checked_linkName in dicCheck:\n",
    "            fileWrite.write(dicCheck[checked_linkName])"
   ]
  },
  {
   "cell_type": "code",
   "execution_count": 9,
   "metadata": {
    "collapsed": false
   },
   "outputs": [
    {
     "name": "stdout",
     "output_type": "stream",
     "text": [
      "No.1, JFTP5R is new, and added in dicCheck.\n",
      "No.2, JAPN5AA is new, and added in dicCheck.\n",
      "No.3, JAPN5A is new, and added in dicCheck.\n",
      "No.4, JAPN5AB is new, and added in dicCheck.\n",
      "No.5, JAPN5AC is new, and added in dicCheck.\n",
      "No.6, JAPN5AD is new, and added in dicCheck.\n",
      "No.7, JFTP5R is existed, and not added in dicCheck.\n",
      "Url: http://www.ggogo.com/ggogoWeb/goProd.do?step=goStep1&mgrupCd=JFTP5R\n",
      "No.8, JFTP5S is new, and added in dicCheck.\n",
      "No.9, JFTP5P is new, and added in dicCheck.\n",
      "No.10, JFTP5Q is new, and added in dicCheck.\n",
      "No.11, JFTP5T is new, and added in dicCheck.\n",
      "No.12, JSTP5W is new, and added in dicCheck.\n",
      "No.13, JFTP5U is new, and added in dicCheck.\n",
      "No.14, JFTP5ST is new, and added in dicCheck.\n",
      "No.15, JSTP5V is new, and added in dicCheck.\n",
      "No.16, JFT5BZ is new, and added in dicCheck.\n",
      "No.17, JFT5CC is new, and added in dicCheck.\n",
      "No.18, JFT5BQ is new, and added in dicCheck.\n",
      "No.19, JFT5BP is new, and added in dicCheck.\n",
      "No.20, JFT5BW is new, and added in dicCheck.\n",
      "No.21, JFT5CD is new, and added in dicCheck.\n",
      "No.22, JFT5S14 is new, and added in dicCheck.\n",
      "No.23, JFTN5E is new, and added in dicCheck.\n",
      "No.24, JFTNE5 is new, and added in dicCheck.\n",
      "No.25, JFT5GA is new, and added in dicCheck.\n",
      "No.26, JFT5CB is new, and added in dicCheck.\n"
     ]
    }
   ],
   "source": [
    "checkUrl('E:\\\\BigData\\\\Project\\\\Travel\\\\Ggogo\\\\Japan\\\\Link\\\\bid_list_for_Ggogo_in_Tokyo.txt', 'Tokyo')"
   ]
  },
  {
   "cell_type": "markdown",
   "metadata": {},
   "source": [
    "## 計算檢查後加入的連結數量"
   ]
  },
  {
   "cell_type": "code",
   "execution_count": 10,
   "metadata": {
    "collapsed": false
   },
   "outputs": [],
   "source": [
    "def countCheckedUrl(areaName): #輸入旅遊行程地區名稱\n",
    "    linkFileFormat = 'E:\\\\BigData\\\\Project\\\\Travel\\\\Ggogo\\\\Japan\\\\Link\\\\Checked\\\\checked_bid_list_for_Ggogo_in_{}.txt'\n",
    "    linkFilePath = linkFileFormat.format(areaName)\n",
    "    #以上做字串的填入\n",
    "    count = 0 #計算次數\n",
    "    for lines in open(linkFilePath, 'r'): #計算有多少個數量\n",
    "        count += 1\n",
    "    return count #回傳值"
   ]
  },
  {
   "cell_type": "code",
   "execution_count": 11,
   "metadata": {
    "collapsed": false,
    "scrolled": true
   },
   "outputs": [
    {
     "data": {
      "text/plain": [
       "25"
      ]
     },
     "execution_count": 11,
     "metadata": {},
     "output_type": "execute_result"
    }
   ],
   "source": [
    "countCheckedUrl('Tokyo')"
   ]
  },
  {
   "cell_type": "markdown",
   "metadata": {},
   "source": [
    "## 抓取旅遊方案細項資料"
   ]
  },
  {
   "cell_type": "code",
   "execution_count": 12,
   "metadata": {
    "collapsed": false
   },
   "outputs": [],
   "source": [
    "### 印出字典的key與value########\n",
    "def PrintKeyValue(dic_in):\n",
    "    for key, value in dic_in.iteritems():\n",
    "        print key, ':', value"
   ]
  },
  {
   "cell_type": "code",
   "execution_count": 3,
   "metadata": {
    "collapsed": false
   },
   "outputs": [],
   "source": [
    "def get_TourInfo(areaName):\n",
    "    linkFileFormat = 'E:\\\\BigData\\\\Project\\\\Travel\\\\Ggogo\\\\Japan\\\\Link\\\\Checked\\\\checked_bid_list_for_Ggogo_in_{}.txt'\n",
    "    linkFilePath = linkFileFormat.format(areaName)\n",
    "    savedFileFormat = 'E:\\\\BigData\\\\Project\\\\Travel\\\\Ggogo\\\\Japan\\\\Data\\\\totalTravel_for_Ggogo_in_{}.json'\n",
    "    savedFilePath = savedFileFormat.format(areaName)\n",
    "    errorFileFormat = 'E:\\\\BigData\\\\Project\\\\Travel\\\\Ggogo\\\\Japan\\\\Data\\\\Error\\\\error_bid_list_for_Ggogo_in_{}.txt'\n",
    "    errorFilePath = errorFileFormat.format(areaName)\n",
    "    #以上皆是路徑的字串格式填入\n",
    "    eachTravel = [] #放置所有細項資料於旅行方案集合\n",
    "    totalTravel = {} #放置所有的旅行方案於總集合\n",
    "    totalCount = 0\n",
    "    errorCount = 0\n",
    "    with open(errorFilePath, 'w') as errorFile:\n",
    "        for bid_url in open(linkFilePath, 'r'):\n",
    "            try:\n",
    "                itemDetail = {} #放置所有細項資料集合\n",
    "                daysTour = {} #放置day{}的value\n",
    "                bid_detail = requests.get(bid_url.strip()) #將檔案中的網址，取得連線\n",
    "                soup = bs(bid_detail.text, \"lxml\") #取得連線後，萃取取得的程式碼\n",
    "                itemDetail['title'] = soup.select('span.t_b15')[0].text #以下依照各個key、value丟入字典裡\n",
    "\n",
    "                agency = re.search('G\\w*.{4}', soup.select('title')[0].text)\n",
    "                itemDetail['agency'] = agency.group(0)\n",
    "\n",
    "                strName = bid_url.strip().split('=')\n",
    "                itemDetail['prodNo'] = strName[2].strip()\n",
    "                \n",
    "                itemDetail['href'] = bid_url.strip()\n",
    "\n",
    "                i = 0 #因第X天，下一個td標籤內，就是放入行程細節，加上有同個階層的table、tbody、tr、td……\n",
    "                      #因此需要找同個階層，但是第i個位置的行程細節內容\n",
    "                days = 0 #計算天數\n",
    "                for td in soup.select('table table table table table td'): #在第5層下的td開始搜尋\n",
    "                    if re.search(u'第.*天', td.text.strip()) != None: #如果符合'第x天'的字串內容，且不為None，則為true\n",
    "                        if len(td.text.strip()) == 5: #第X天的長度要剛好是5，則為true\n",
    "                            days += 1\n",
    "                            daysTour['day{}'.format(days)] = soup.select('table table table table table td')[i + 1].text.strip()\n",
    "                            #在soup.select('table table table table table td')下找到第i+1個索引值，取出所對應到的內容\n",
    "                    i += 1\n",
    "                itemDetail['tour'] = daysTour #將每天不同的行程，以字典方式丟入itemDetail字典內，形成itemDetail[daysTour[days]]\n",
    "                totalCount += 1 #計算數量\n",
    "                print '----------------------------這是分隔線----------------------------'\n",
    "                print 'days: ' + str(days) #印出天數\n",
    "                print 'Url: ' + bid_url.strip() #印出網址\n",
    "                eachTravel.append(itemDetail) #將每次完整個旅遊方案內容加入到，eachTravel的List內\n",
    "                totalTravel['eachTravel'] = eachTravel #將全部的旅遊方案，一次加入到字典裡\n",
    "                \n",
    "            except:\n",
    "                errorCount += 1 #計算出現錯誤的數量\n",
    "                splitPID = bid_url.strip().split('=') #取得PID\n",
    "                strPID = splitPID[2].strip()\n",
    "                print '----------------' + strPID + ' is error!!----------------'\n",
    "                errorFile.write(bid_url) #將出現錯誤的網址寫入\n",
    "\n",
    "    with open(savedFilePath, 'w') as dataFile: #將最後的旅遊方案全部寫入\n",
    "        json.dump(totalTravel, dataFile)\n",
    "    \n",
    "    print '----------------------------All datas are done!!!----------------------------'\n",
    "    print 'Data Quantities: ' + str(totalCount)\n",
    "    print 'Error Quantities: ' + str(errorCount)"
   ]
  },
  {
   "cell_type": "code",
   "execution_count": 4,
   "metadata": {
    "collapsed": false
   },
   "outputs": [
    {
     "name": "stdout",
     "output_type": "stream",
     "text": [
      "----------------------------這是分隔線----------------------------\n",
      "days: 5\n",
      "Url: http://www.ggogo.com/ggogoWeb/goProd.do?step=goStep1&mgrupCd=JAPN5AD\n",
      "----------------------------這是分隔線----------------------------\n",
      "days: 5\n",
      "Url: http://www.ggogo.com/ggogoWeb/goProd.do?step=goStep1&mgrupCd=JAPN5AB\n",
      "----------------------------這是分隔線----------------------------\n",
      "days: 5\n",
      "Url: http://www.ggogo.com/ggogoWeb/goProd.do?step=goStep1&mgrupCd=JAPN5AC\n",
      "----------------------------這是分隔線----------------------------\n",
      "days: 5\n",
      "Url: http://www.ggogo.com/ggogoWeb/goProd.do?step=goStep1&mgrupCd=JAPN5AA\n",
      "----------------------------這是分隔線----------------------------\n",
      "days: 5\n",
      "Url: http://www.ggogo.com/ggogoWeb/goProd.do?step=goStep1&mgrupCd=JFT5S14\n",
      "----------------------------這是分隔線----------------------------\n",
      "days: 5\n",
      "Url: http://www.ggogo.com/ggogoWeb/goProd.do?step=goStep1&mgrupCd=JSTP5V\n",
      "----------------------------這是分隔線----------------------------\n",
      "days: 5\n",
      "Url: http://www.ggogo.com/ggogoWeb/goProd.do?step=goStep1&mgrupCd=JSTP5W\n",
      "----------------------------這是分隔線----------------------------\n",
      "days: 5\n",
      "Url: http://www.ggogo.com/ggogoWeb/goProd.do?step=goStep1&mgrupCd=JFT5CD\n",
      "----------------------------這是分隔線----------------------------\n",
      "days: 5\n",
      "Url: http://www.ggogo.com/ggogoWeb/goProd.do?step=goStep1&mgrupCd=JFT5CB\n",
      "----------------------------這是分隔線----------------------------\n",
      "days: 5\n",
      "Url: http://www.ggogo.com/ggogoWeb/goProd.do?step=goStep1&mgrupCd=JFT5CC\n",
      "----------------------------這是分隔線----------------------------\n",
      "days: 5\n",
      "Url: http://www.ggogo.com/ggogoWeb/goProd.do?step=goStep1&mgrupCd=JFT5GA\n",
      "----------------------------這是分隔線----------------------------\n",
      "days: 5\n",
      "Url: http://www.ggogo.com/ggogoWeb/goProd.do?step=goStep1&mgrupCd=JAPN5A\n",
      "----------------------------這是分隔線----------------------------\n",
      "days: 5\n",
      "Url: http://www.ggogo.com/ggogoWeb/goProd.do?step=goStep1&mgrupCd=JFTP5U\n",
      "----------------------------這是分隔線----------------------------\n",
      "days: 5\n",
      "Url: http://www.ggogo.com/ggogoWeb/goProd.do?step=goStep1&mgrupCd=JFTP5T\n",
      "----------------------------這是分隔線----------------------------\n",
      "days: 5\n",
      "Url: http://www.ggogo.com/ggogoWeb/goProd.do?step=goStep1&mgrupCd=JFTP5Q\n",
      "----------------------------這是分隔線----------------------------\n",
      "days: 5\n",
      "Url: http://www.ggogo.com/ggogoWeb/goProd.do?step=goStep1&mgrupCd=JFTP5P\n",
      "----------------------------這是分隔線----------------------------\n",
      "days: 5\n",
      "Url: http://www.ggogo.com/ggogoWeb/goProd.do?step=goStep1&mgrupCd=JFTP5S\n",
      "----------------------------這是分隔線----------------------------\n",
      "days: 5\n",
      "Url: http://www.ggogo.com/ggogoWeb/goProd.do?step=goStep1&mgrupCd=JFTP5R\n",
      "----------------------------這是分隔線----------------------------\n",
      "days: 5\n",
      "Url: http://www.ggogo.com/ggogoWeb/goProd.do?step=goStep1&mgrupCd=JFTNE5\n",
      "----------------------------這是分隔線----------------------------\n",
      "days: 5\n",
      "Url: http://www.ggogo.com/ggogoWeb/goProd.do?step=goStep1&mgrupCd=JFT5BW\n",
      "----------------------------這是分隔線----------------------------\n",
      "days: 5\n",
      "Url: http://www.ggogo.com/ggogoWeb/goProd.do?step=goStep1&mgrupCd=JFT5BQ\n",
      "----------------------------這是分隔線----------------------------\n",
      "days: 5\n",
      "Url: http://www.ggogo.com/ggogoWeb/goProd.do?step=goStep1&mgrupCd=JFT5BP\n",
      "----------------------------這是分隔線----------------------------\n",
      "days: 5\n",
      "Url: http://www.ggogo.com/ggogoWeb/goProd.do?step=goStep1&mgrupCd=JFTN5E\n",
      "----------------------------這是分隔線----------------------------\n",
      "days: 5\n",
      "Url: http://www.ggogo.com/ggogoWeb/goProd.do?step=goStep1&mgrupCd=JFTP5ST\n",
      "----------------------------這是分隔線----------------------------\n",
      "days: 5\n",
      "Url: http://www.ggogo.com/ggogoWeb/goProd.do?step=goStep1&mgrupCd=JFT5BZ\n",
      "----------------------------All datas are done!!!----------------------------\n",
      "Data Quantities: 25\n",
      "Error Quantities: 0\n"
     ]
    }
   ],
   "source": [
    "get_TourInfo('Tokyo')"
   ]
  },
  {
   "cell_type": "code",
   "execution_count": 13,
   "metadata": {
    "collapsed": false
   },
   "outputs": [
    {
     "name": "stdout",
     "output_type": "stream",
     "text": [
      "【幸福。東京】輕井澤富士溫泉淺草晴空塔五天\n",
      ":::Ggogo吉帝旅遊 改變您的旅遊視野:::\n",
      "Ggogo吉帝旅遊\n",
      "第 1 天 : 桃園/成田－飯店－自行前往JUSCO廣場\n",
      "第 2 天 : 小江戶川越－高崎達摩體驗《手工製作達摩》－榛名湖－輕井澤散策－聖保羅教堂－輕井澤\n",
      "第 3 天 : 白絲瀑布－珍奇的湯田景觀《草津湯田》－草津舊街散策－山中湖白鳥號遊船－富士山資料館\n",
      "第 4 天 : 忍野八海－富士登山電車(下吉田-河口湖)－淺草觀音寺－遠眺天空樹－免稅店－台場DiverCity Tokyo Plaza購物廣場~18米超大鋼彈模型立像\n",
      "第 5 天 : 東京自由活動－成田/桃園\n"
     ]
    },
    {
     "name": "stderr",
     "output_type": "stream",
     "text": [
      "E:\\Program File\\BIG DATA\\Anaconda2\\lib\\site-packages\\bs4\\__init__.py:166: UserWarning: No parser was explicitly specified, so I'm using the best available HTML parser for this system (\"lxml\"). This usually isn't a problem, but if you run this code on another system, or in a different virtual environment, it may use a different parser and behave differently.\n",
      "\n",
      "To get rid of this warning, change this:\n",
      "\n",
      " BeautifulSoup([your markup])\n",
      "\n",
      "to this:\n",
      "\n",
      " BeautifulSoup([your markup], \"lxml\")\n",
      "\n",
      "  markup_type=markup_type))\n"
     ]
    }
   ],
   "source": [
    "res = requests.get('http://www.ggogo.com/ggogoWeb/goProd.do?step=goStep1&mgrupCd=JAPN5AD')\n",
    "soup = bs(res.text)\n",
    "print soup.select('span.t_b15')[0].text\n",
    "print soup.select('title')[0].text\n",
    "agency = re.search('G\\w*.{4}', soup.select('title')[0].text)\n",
    "print agency.group(0)\n",
    "import re\n",
    "i = 0\n",
    "for td in soup.select('table table table table table td'):\n",
    "    if re.search(u'第.*天',td.text.strip()) != None:\n",
    "        if len(td.text.strip()) == 5:\n",
    "            print td.text.strip(),':',soup.select('table table table table table td')[i+1].text.strip()\n",
    "    i = i+1"
   ]
  },
  {
   "cell_type": "code",
   "execution_count": 14,
   "metadata": {
    "collapsed": false,
    "scrolled": true
   },
   "outputs": [
    {
     "name": "stdout",
     "output_type": "stream",
     "text": [
      "day1 桃園/成田－飯店－自行前往JUSCO廣場 38\n",
      "day2 小江戶川越－高崎達摩體驗《手工製作達摩》－榛名湖－輕井澤散策－聖保羅教堂－輕井澤 46\n",
      "day3 白絲瀑布－珍奇的湯田景觀《草津湯田》－草津舊街散策－山中湖白鳥號遊船－富士山資料館 54\n",
      "day4 忍野八海－富士登山電車(下吉田-河口湖)－淺草觀音寺－遠眺天空樹－免稅店－台場DiverCity Tokyo Plaza購物廣場~18米超大鋼彈模型立像 62\n",
      "day5 東京自由活動－成田/桃園 70\n"
     ]
    }
   ],
   "source": [
    "i = 0\n",
    "day = 1\n",
    "for td in soup.select('table table table table table td'):\n",
    "#     print td.text.strip()\n",
    "    if re.search(u'第.*天',td.text.strip()) != None:\n",
    "#         print td.text.strip()\n",
    "        if len(td.text.strip()) == 5:\n",
    "            print 'day{}'.format(day), soup.select('table table table table table td')[i+1].text.strip(), i\n",
    "            day = day + 1\n",
    "    i += 1"
   ]
  }
 ],
 "metadata": {
  "kernelspec": {
   "display_name": "Python 2",
   "language": "python",
   "name": "python2"
  },
  "language_info": {
   "codemirror_mode": {
    "name": "ipython",
    "version": 2
   },
   "file_extension": ".py",
   "mimetype": "text/x-python",
   "name": "python",
   "nbconvert_exporter": "python",
   "pygments_lexer": "ipython2",
   "version": "2.7.11"
  }
 },
 "nbformat": 4,
 "nbformat_minor": 0
}
