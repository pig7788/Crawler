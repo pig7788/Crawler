{
 "cells": [
  {
   "cell_type": "code",
   "execution_count": 1,
   "metadata": {
    "collapsed": true
   },
   "outputs": [],
   "source": [
    "import requests\n",
    "from bs4 import  BeautifulSoup as bs\n",
    "import math"
   ]
  },
  {
   "cell_type": "code",
   "execution_count": 5,
   "metadata": {
    "collapsed": false
   },
   "outputs": [],
   "source": [
    "rs = requests.session()\n",
    "res = rs.get('http://vacation.eztravel.com.tw/pkgfrn/results/TPE/93?fullStatus=NONE')\n",
    "soup = bs(res.text)"
   ]
  },
  {
   "cell_type": "code",
   "execution_count": 4,
   "metadata": {
    "collapsed": false
   },
   "outputs": [
    {
     "name": "stdout",
     "output_type": "stream",
     "text": [
      "178\n",
      "10\n"
     ]
    }
   ],
   "source": [
    "count  = soup.select('.v-line')[0].text.split(' ')\n",
    "print count[1]\n",
    "page = int(math.ceil(float(count[1]) / 18))\n",
    "print page"
   ]
  },
  {
   "cell_type": "code",
   "execution_count": 10,
   "metadata": {
    "collapsed": false
   },
   "outputs": [],
   "source": [
    "urlFormat = 'http://vacation.eztravel.com.tw/pkgfrn/results/TPE/93/{}?&fullStatus=NONE'\n",
    "with open('E:\\\\BigData\\\\Project\\\\Travel\\\\EZTravel_Link\\\\bid_list_for_EZtravel_in_Kanto.txt','w') as f:\n",
    "    for pageNum in range(1,page+1):\n",
    "        url = urlFormat.format(pageNum)\n",
    "        res2 = rs.get(url)\n",
    "        soup1 = bs(res2.text)\n",
    "        list_table = soup1.select('div#listTable')[0]\n",
    "        for items in list_table.select('div.list-box.mainLinkBox'):\n",
    "            f.write('http://vacation.eztravel.com.tw/pkgfrn/' + items.select('a')[0]['href'].split('/pkgfrn/')[1] + '\\n')"
   ]
  },
  {
   "cell_type": "code",
   "execution_count": null,
   "metadata": {
    "collapsed": true
   },
   "outputs": [],
   "source": []
  }
 ],
 "metadata": {
  "kernelspec": {
   "display_name": "Python 2",
   "language": "python",
   "name": "python2"
  },
  "language_info": {
   "codemirror_mode": {
    "name": "ipython",
    "version": 2
   },
   "file_extension": ".py",
   "mimetype": "text/x-python",
   "name": "python",
   "nbconvert_exporter": "python",
   "pygments_lexer": "ipython2",
   "version": "2.7.11"
  }
 },
 "nbformat": 4,
 "nbformat_minor": 0
}
