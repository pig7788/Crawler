{
 "cells": [
  {
   "cell_type": "code",
   "execution_count": 3,
   "metadata": {
    "collapsed": true
   },
   "outputs": [],
   "source": [
    "import requests, math, re, time, json\n",
    "from bs4 import  BeautifulSoup as bs"
   ]
  },
  {
   "cell_type": "code",
   "execution_count": 2,
   "metadata": {
    "collapsed": true
   },
   "outputs": [],
   "source": [
    "# -*- coding: utf-8 -*-\n",
    "from selenium import webdriver\n",
    "from selenium.webdriver.common.by import By\n",
    "from selenium.webdriver.common.keys import Keys\n",
    "from selenium.webdriver.support.ui import Select\n",
    "from selenium.common.exceptions import NoSuchElementException\n",
    "from selenium.common.exceptions import NoAlertPresentException\n",
    "import unittest, time, re\n",
    "\n",
    "driver = webdriver.Firefox()\n",
    "driver.implicitly_wait(1)\n",
    "base_url = \"http://www.ggogo.com\"\n",
    "driver.verificationErrors = []\n",
    "driver.accept_next_alert = True\n",
    "driver.get(base_url + \"/event/japan-nagoya-tour/index.htm\")\n",
    "\n",
    "res = driver.page_source\n",
    "soup = bs(res, \"lxml\")\n",
    "a_tag = soup.select('div.frame a')\n",
    "with open('E:\\\\BigData\\\\Project\\\\Travel\\\\Ggogo\\\\Japan\\\\Link\\\\bid_list_for_Ggogo_in_Nagoya.txt', 'w') as fileWrite:\n",
    "    for get_url in a_tag:\n",
    "        if len(get_url.text) > 0:\n",
    "            fileWrite.write('http://www.ggogo.com' + get_url['href'] + '\\n')\n",
    "driver.close()"
   ]
  },
  {
   "cell_type": "code",
   "execution_count": 2,
   "metadata": {
    "collapsed": true
   },
   "outputs": [],
   "source": [
    "def checkUrl(linkFilePath, areaName):\n",
    "    dicCheck = {} #宣告檢查的字典\n",
    "    num = 0\n",
    "    checkedPathFormat = 'E:\\\\BigData\\\\Project\\\\Travel\\\\Ggogo\\\\Japan\\\\Link\\\\Checked\\\\checked_bid_list_for_Ggogo_in_{}.txt'\n",
    "    checkedPath = checkedPathFormat.format(areaName)\n",
    "    #上面兩行將路徑字串空格填入\n",
    "    for bid_url in open(linkFilePath, 'r'): #讀取網頁\n",
    "        num += 1\n",
    "        strName = bid_url.strip().split('=') #將最後的mgrupCd，切割成為獨立可判斷是否有重複的號碼\n",
    "        linkName = strName[2].strip()\n",
    "        if strName[2] not in dicCheck: #判斷如果為true，則執行下列程式碼，並且存入檢查的字典\n",
    "            print 'No.' + str(num) + ', ' + linkName +  ' is new, and added in dicCheck.'\n",
    "            dicCheck[linkName] = bid_url\n",
    "        else: #若false則印出重複的mgrupCd，以及網址\n",
    "            print 'No.' + str(num) + ', ' + linkName + ' is existed, and not added in dicCheck.'\n",
    "            print 'Url: ' + bid_url.strip()\n",
    "    with open(checkedPath, 'w') as fileWrite: #將字典內的網址寫入檔案中\n",
    "        for checked_linkName in dicCheck:\n",
    "            fileWrite.write(dicCheck[checked_linkName])"
   ]
  },
  {
   "cell_type": "code",
   "execution_count": 3,
   "metadata": {
    "collapsed": false
   },
   "outputs": [
    {
     "name": "stdout",
     "output_type": "stream",
     "text": [
      "No.1, JAPN6P is new, and added in dicCheck.\n",
      "No.2, JAPN6E is new, and added in dicCheck.\n",
      "No.3, JAPN6P is existed, and not added in dicCheck.\n",
      "Url: http://www.ggogo.com/ggogoWeb/goProd.do?step=goStep1&mgrupCd=JAPN6P\n",
      "No.4, JAPN6Q is new, and added in dicCheck.\n",
      "No.5, SDJAA5 is new, and added in dicCheck.\n",
      "No.6, SDJAB5 is new, and added in dicCheck.\n"
     ]
    }
   ],
   "source": [
    "checkUrl('E:\\\\BigData\\\\Project\\\\Travel\\\\Ggogo\\\\Japan\\\\Link\\\\bid_list_for_Ggogo_in_Nagoya.txt', 'Nagoya')"
   ]
  },
  {
   "cell_type": "code",
   "execution_count": 4,
   "metadata": {
    "collapsed": true
   },
   "outputs": [],
   "source": [
    "def countCheckedUrl(areaName): #輸入旅遊行程地區名稱\n",
    "    linkFileFormat = 'E:\\\\BigData\\\\Project\\\\Travel\\\\Ggogo\\\\Japan\\\\Link\\\\Checked\\\\checked_bid_list_for_Ggogo_in_{}.txt'\n",
    "    linkFilePath = linkFileFormat.format(areaName)\n",
    "    #以上做字串的填入\n",
    "    count = 0 #計算次數\n",
    "    for lines in open(linkFilePath, 'r'): #計算有多少個數量\n",
    "        count += 1\n",
    "    return count #回傳值"
   ]
  },
  {
   "cell_type": "code",
   "execution_count": 5,
   "metadata": {
    "collapsed": false
   },
   "outputs": [
    {
     "data": {
      "text/plain": [
       "5"
      ]
     },
     "execution_count": 5,
     "metadata": {},
     "output_type": "execute_result"
    }
   ],
   "source": [
    "countCheckedUrl('Nagoya')"
   ]
  },
  {
   "cell_type": "code",
   "execution_count": 2,
   "metadata": {
    "collapsed": true
   },
   "outputs": [],
   "source": [
    "def get_TourInfo(areaName):\n",
    "    linkFileFormat = 'E:\\\\BigData\\\\Project\\\\Travel\\\\Ggogo\\\\Japan\\\\Link\\\\Checked\\\\checked_bid_list_for_Ggogo_in_{}.txt'\n",
    "    linkFilePath = linkFileFormat.format(areaName)\n",
    "    savedFileFormat = 'E:\\\\BigData\\\\Project\\\\Travel\\\\Ggogo\\\\Japan\\\\Data\\\\totalTravel_for_Ggogo_in_{}.json'\n",
    "    savedFilePath = savedFileFormat.format(areaName)\n",
    "    errorFileFormat = 'E:\\\\BigData\\\\Project\\\\Travel\\\\Ggogo\\\\Japan\\\\Data\\\\Error\\\\error_bid_list_for_Ggogo_in_{}.txt'\n",
    "    errorFilePath = errorFileFormat.format(areaName)\n",
    "    #以上皆是路徑的字串格式填入\n",
    "    eachTravel = [] #放置所有細項資料於旅行方案集合\n",
    "    totalTravel = {} #放置所有的旅行方案於總集合\n",
    "    totalCount = 0\n",
    "    errorCount = 0\n",
    "    with open(errorFilePath, 'w') as errorFile:\n",
    "        for bid_url in open(linkFilePath, 'r'):\n",
    "            try:\n",
    "                itemDetail = {} #放置所有細項資料集合\n",
    "                daysTour = {} #放置day{}的value\n",
    "                bid_detail = requests.get(bid_url.strip()) #將檔案中的網址，取得連線\n",
    "                soup = bs(bid_detail.text, \"lxml\") #取得連線後，萃取取得的程式碼\n",
    "                itemDetail['title'] = soup.select('span.t_b15')[0].text #以下依照各個key、value丟入字典裡\n",
    "\n",
    "                agency = re.search('G\\w*.{4}', soup.select('title')[0].text)\n",
    "                itemDetail['agency'] = agency.group(0)\n",
    "\n",
    "                strName = bid_url.strip().split('=')\n",
    "                itemDetail['prodNo'] = strName[2].strip()\n",
    "                \n",
    "                itemDetail['href'] = bid_url.strip()\n",
    "\n",
    "                i = 0 #因第X天，下一個td標籤內，就是放入行程細節，加上有同個階層的table、tbody、tr、td……\n",
    "                      #因此需要找同個階層，但是第i個位置的行程細節內容\n",
    "                days = 0 #計算天數\n",
    "                for td in soup.select('table table table table table td'): #在第5層下的td開始搜尋\n",
    "                    if re.search(u'第.*天', td.text.strip()) != None: #如果符合'第x天'的字串內容，且不為None，則為true\n",
    "                        if len(td.text.strip()) == 5: #第X天的長度要剛好是5，則為true\n",
    "                            days += 1\n",
    "                            daysTour['day{}'.format(days)] = soup.select('table table table table table td')[i + 1].text.strip()\n",
    "                            #在soup.select('table table table table table td')下找到第i+1個索引值，取出所對應到的內容\n",
    "                    i += 1\n",
    "                itemDetail['tour'] = daysTour #將每天不同的行程，以字典方式丟入itemDetail字典內，形成itemDetail[daysTour[days]]\n",
    "                totalCount += 1 #計算數量\n",
    "                print '----------------------------這是分隔線----------------------------'\n",
    "                print 'days: ' + str(days) #印出天數\n",
    "                print 'Url: ' + bid_url.strip() #印出網址\n",
    "                eachTravel.append(itemDetail) #將每次完整個旅遊方案內容加入到，eachTravel的List內\n",
    "                totalTravel['eachTravel'] = eachTravel #將全部的旅遊方案，一次加入到字典裡\n",
    "                \n",
    "            except:\n",
    "                errorCount += 1 #計算出現錯誤的數量\n",
    "                splitPID = bid_url.strip().split('=') #取得PID\n",
    "                strPID = splitPID[2].strip()\n",
    "                print '----------------' + strPID + ' is error!!----------------'\n",
    "                errorFile.write(bid_url) #將出現錯誤的網址寫入\n",
    "\n",
    "    with open(savedFilePath, 'w') as dataFile: #將最後的旅遊方案全部寫入\n",
    "        json.dump(totalTravel, dataFile)\n",
    "    \n",
    "    print '----------------------------All datas are done!!!----------------------------'\n",
    "    print 'Data Quantities: ' + str(totalCount)\n",
    "    print 'Error Quantities: ' + str(errorCount)"
   ]
  },
  {
   "cell_type": "code",
   "execution_count": 4,
   "metadata": {
    "collapsed": false
   },
   "outputs": [
    {
     "name": "stdout",
     "output_type": "stream",
     "text": [
      "----------------------------這是分隔線----------------------------\n",
      "days: 6\n",
      "Url: http://www.ggogo.com/ggogoWeb/goProd.do?step=goStep1&mgrupCd=JAPN6Q\n",
      "----------------------------這是分隔線----------------------------\n",
      "days: 6\n",
      "Url: http://www.ggogo.com/ggogoWeb/goProd.do?step=goStep1&mgrupCd=JAPN6P\n",
      "----------------------------這是分隔線----------------------------\n",
      "days: 5\n",
      "Url: http://www.ggogo.com/ggogoWeb/goProd.do?step=goStep1&mgrupCd=SDJAA5\n",
      "----------------------------這是分隔線----------------------------\n",
      "days: 5\n",
      "Url: http://www.ggogo.com/ggogoWeb/goProd.do?step=goStep1&mgrupCd=SDJAB5\n",
      "----------------------------這是分隔線----------------------------\n",
      "days: 6\n",
      "Url: http://www.ggogo.com/ggogoWeb/goProd.do?step=goStep1&mgrupCd=JAPN6E\n",
      "----------------------------All datas are done!!!----------------------------\n",
      "Data Quantities: 5\n",
      "Error Quantities: 0\n"
     ]
    }
   ],
   "source": [
    "get_TourInfo('Nagoya')"
   ]
  },
  {
   "cell_type": "code",
   "execution_count": null,
   "metadata": {
    "collapsed": true
   },
   "outputs": [],
   "source": []
  }
 ],
 "metadata": {
  "kernelspec": {
   "display_name": "Python 2",
   "language": "python",
   "name": "python2"
  },
  "language_info": {
   "codemirror_mode": {
    "name": "ipython",
    "version": 2
   },
   "file_extension": ".py",
   "mimetype": "text/x-python",
   "name": "python",
   "nbconvert_exporter": "python",
   "pygments_lexer": "ipython2",
   "version": "2.7.11"
  }
 },
 "nbformat": 4,
 "nbformat_minor": 0
}
